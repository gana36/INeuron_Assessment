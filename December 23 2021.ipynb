{
 "cells": [
  {
   "cell_type": "code",
   "execution_count": 114,
   "metadata": {},
   "outputs": [],
   "source": [
    "import os"
   ]
  },
  {
   "cell_type": "markdown",
   "metadata": {},
   "source": [
    "###  Question 1"
   ]
  },
  {
   "cell_type": "code",
   "execution_count": 1,
   "metadata": {},
   "outputs": [
    {
     "name": "stdout",
     "output_type": "stream",
     "text": [
      "hanas\n"
     ]
    },
    {
     "data": {
      "text/plain": [
       "'length of the string you entered is 5'"
      ]
     },
     "execution_count": 1,
     "metadata": {},
     "output_type": "execute_result"
    }
   ],
   "source": [
    "n=input()\n",
    "\n",
    "def ret_len(n):\n",
    "    count=0\n",
    "    '''This is function which returns the input string length without using\n",
    "    built in len method'''\n",
    "    for i in n:\n",
    "        count=count+1\n",
    "\n",
    "    return f'length of the string you entered is {count}'\n",
    "ret_len(n)"
   ]
  },
  {
   "cell_type": "markdown",
   "metadata": {},
   "source": [
    "### Question 2"
   ]
  },
  {
   "cell_type": "code",
   "execution_count": 24,
   "metadata": {
    "scrolled": true
   },
   "outputs": [
    {
     "name": "stdout",
     "output_type": "stream",
     "text": [
      "hello guys\n"
     ]
    },
    {
     "data": {
      "text/plain": [
       "[[0, 'h'],\n",
       " [1, 'e'],\n",
       " [2, 'l'],\n",
       " [3, 'l'],\n",
       " [4, 'o'],\n",
       " [5, ' '],\n",
       " [6, 'g'],\n",
       " [7, 'u'],\n",
       " [8, 'y'],\n",
       " [9, 's']]"
      ]
     },
     "execution_count": 24,
     "metadata": {},
     "output_type": "execute_result"
    }
   ],
   "source": [
    "n=input()\n",
    "li=[]\n",
    "def prim_index(n):\n",
    "    '''this function will return the index of all the elements in the input'''\n",
    "    for i,j in enumerate(n):\n",
    "        a=[i,j]\n",
    "        li.append(a)\n",
    "    return li\n",
    "    \n",
    "prim_index(n)"
   ]
  },
  {
   "cell_type": "markdown",
   "metadata": {},
   "source": [
    "### Question 3"
   ]
  },
  {
   "cell_type": "code",
   "execution_count": 93,
   "metadata": {},
   "outputs": [],
   "source": [
    "def fun_di(n):\n",
    "    '''This function returns the values of a 2 level nested dict in a list'''\n",
    "    li=[]\n",
    "    for i in n:\n",
    "        if type(n[i])==dict:\n",
    "            a=n[i]\n",
    "            for p in n[i]:\n",
    "                li.append(a[p])\n",
    "                #print(i[p])\n",
    "                \n",
    "           \n",
    "        elif type(n[i])==list or type(n[i])==tuple:\n",
    "            ent=n[i]\n",
    "            li.append(n[i])\n",
    "        \n",
    "    return li       \n",
    "            "
   ]
  },
  {
   "cell_type": "code",
   "execution_count": 94,
   "metadata": {},
   "outputs": [],
   "source": [
    "dis={\"gan\":{\"h\":23,\"g\":2345},'hello':[1,'j',3,4],'string':'hana','tup':(1,2,3)}"
   ]
  },
  {
   "cell_type": "code",
   "execution_count": 95,
   "metadata": {},
   "outputs": [
    {
     "data": {
      "text/plain": [
       "[23, 2345, [1, 'j', 3, 4], (1, 2, 3)]"
      ]
     },
     "execution_count": 95,
     "metadata": {},
     "output_type": "execute_result"
    }
   ],
   "source": [
    "fun_di(dis)"
   ]
  },
  {
   "cell_type": "markdown",
   "metadata": {},
   "source": [
    "### Question 4"
   ]
  },
  {
   "cell_type": "code",
   "execution_count": 3,
   "metadata": {},
   "outputs": [],
   "source": [
    "def ext_fun():\n",
    "    '''Function returns another func and gives output'''\n",
    "    def nes_fun(n):\n",
    "        return f\"Hi {n}\"\n",
    "    return nes_fun"
   ]
  },
  {
   "cell_type": "code",
   "execution_count": 4,
   "metadata": {},
   "outputs": [],
   "source": [
    "obj=ext_fun()"
   ]
  },
  {
   "cell_type": "code",
   "execution_count": 5,
   "metadata": {},
   "outputs": [
    {
     "data": {
      "text/plain": [
       "'Hi hana'"
      ]
     },
     "execution_count": 5,
     "metadata": {},
     "output_type": "execute_result"
    }
   ],
   "source": [
    "obj('hana')"
   ]
  },
  {
   "cell_type": "code",
   "execution_count": null,
   "metadata": {},
   "outputs": [],
   "source": []
  },
  {
   "cell_type": "markdown",
   "metadata": {},
   "source": [
    "### Question 5"
   ]
  },
  {
   "cell_type": "code",
   "execution_count": 6,
   "metadata": {},
   "outputs": [],
   "source": [
    "def mul_list_con(a):\n",
    "    '''This function returns all the elements in the nested list'''\n",
    "    li=[]\n",
    "    for i in a:\n",
    "        if type(i)==list:\n",
    "            for p in i:\n",
    "                li.append(p)\n",
    "                \n",
    "    return li"
   ]
  },
  {
   "cell_type": "code",
   "execution_count": 7,
   "metadata": {},
   "outputs": [
    {
     "data": {
      "text/plain": [
       "[1, 2, 3, 4, 10, 45, 90]"
      ]
     },
     "execution_count": 7,
     "metadata": {},
     "output_type": "execute_result"
    }
   ],
   "source": [
    "al=[[1,2,3,4],[10,45,90]]\n",
    "mul_list_con(al)"
   ]
  },
  {
   "cell_type": "code",
   "execution_count": 8,
   "metadata": {},
   "outputs": [],
   "source": [
    "def fun(*args):\n",
    "    li=[]\n",
    "    '''This is a function which takes multiple lists and concatenate them together'''\n",
    "    for i in args:\n",
    "        if type(i)==list:\n",
    "            for j in i:\n",
    "                li.append(j)\n",
    "    return li"
   ]
  },
  {
   "cell_type": "code",
   "execution_count": 9,
   "metadata": {},
   "outputs": [
    {
     "data": {
      "text/plain": [
       "[1, 2, 3, 4, 20, 56, 77]"
      ]
     },
     "execution_count": 9,
     "metadata": {},
     "output_type": "execute_result"
    }
   ],
   "source": [
    "fun([1,2,3,4],[20,56,77])"
   ]
  },
  {
   "cell_type": "markdown",
   "metadata": {},
   "source": [
    "### Question 6"
   ]
  },
  {
   "cell_type": "code",
   "execution_count": 10,
   "metadata": {},
   "outputs": [],
   "source": [
    "def ret_inde(n):\n",
    "    li=[]\n",
    "    '''This function returns the index and the respective elements, of the elements in the list'''\n",
    "    for i,j in enumerate(n):\n",
    "        a=(i,j)\n",
    "        li.append(a)\n",
    "    return li"
   ]
  },
  {
   "cell_type": "code",
   "execution_count": 11,
   "metadata": {},
   "outputs": [
    {
     "data": {
      "text/plain": [
       "[(0, 11), (1, 32), (2, 43), (3, 14), (4, 75)]"
      ]
     },
     "execution_count": 11,
     "metadata": {},
     "output_type": "execute_result"
    }
   ],
   "source": [
    "ret_inde([11,32,43,14,75])"
   ]
  },
  {
   "cell_type": "code",
   "execution_count": null,
   "metadata": {},
   "outputs": [],
   "source": []
  },
  {
   "cell_type": "markdown",
   "metadata": {},
   "source": [
    "### Question 7"
   ]
  },
  {
   "cell_type": "code",
   "execution_count": 12,
   "metadata": {},
   "outputs": [],
   "source": [
    "import os"
   ]
  },
  {
   "cell_type": "code",
   "execution_count": null,
   "metadata": {
    "scrolled": true
   },
   "outputs": [],
   "source": [
    "n=input()\n",
    "def ret_file(n):\n",
    "    '''This function returns the files in the given directory'''\n",
    "    li=[]\n",
    "    try:\n",
    "        os.chdir(n)\n",
    "        for p in os.listdir():\n",
    "            li.append(p)\n",
    "    except Exception as e:\n",
    "        return \"Check the directory path plz\"\n",
    "    return li\n",
    "ret_file(n)"
   ]
  },
  {
   "cell_type": "code",
   "execution_count": null,
   "metadata": {},
   "outputs": [],
   "source": []
  },
  {
   "cell_type": "markdown",
   "metadata": {},
   "source": [
    "### Question 8"
   ]
  },
  {
   "cell_type": "code",
   "execution_count": null,
   "metadata": {
    "scrolled": false
   },
   "outputs": [],
   "source": [
    "import platform\n",
    "my_system = platform.uname()\n",
    " \n",
    "print(f\"System: {my_system.system}\")\n",
    "print(f\"Node Name: {my_system.node}\")\n",
    "print(f\"Release: {my_system.release}\")\n",
    "print(f\"Version: {my_system.version}\")\n",
    "print(f\"Machine: {my_system.machine}\")\n",
    "print(f\"Processor: {my_system.processor}\")"
   ]
  },
  {
   "cell_type": "code",
   "execution_count": null,
   "metadata": {
    "scrolled": true
   },
   "outputs": [],
   "source": [
    "import wmi\n",
    " \n",
    "c = wmi.WMI()   \n",
    "my_system = c.Win32_ComputerSystem()[0]\n",
    " \n",
    "print(f\"Manufacturer: {my_system.Manufacturer}\")\n",
    "print(f\"Model: {my_system. Model}\")\n",
    "print(f\"Name: {my_system.Name}\")\n",
    "print(f\"NumberOfProcessors: {my_system.NumberOfProcessors}\")\n",
    "print(f\"SystemType: {my_system.SystemType}\")\n",
    "print(f\"SystemFamily: {my_system.SystemFamily}\")"
   ]
  },
  {
   "cell_type": "markdown",
   "metadata": {},
   "source": [
    "### Question 9"
   ]
  },
  {
   "cell_type": "code",
   "execution_count": 97,
   "metadata": {},
   "outputs": [
    {
     "name": "stdout",
     "output_type": "stream",
     "text": [
      "Enter your name we will show you date and time: gana\n"
     ]
    },
    {
     "data": {
      "text/plain": [
       "'Hi! gana current date and time is 2022-01-22 15:39:44.248116'"
      ]
     },
     "execution_count": 97,
     "metadata": {},
     "output_type": "execute_result"
    }
   ],
   "source": [
    "import datetime\n",
    "n=input(\"Enter your name we will show you date and time: \")\n",
    "def dat_time(n):\n",
    "    '''This function returns the time and date'''\n",
    "        e=datetime.datetime.now()\n",
    "        return f'Hi! {n} current date and time is {e}'\n",
    "dat_time(n)"
   ]
  },
  {
   "cell_type": "markdown",
   "metadata": {},
   "source": [
    "### Question 10"
   ]
  },
  {
   "cell_type": "code",
   "execution_count": 126,
   "metadata": {},
   "outputs": [
    {
     "name": "stdout",
     "output_type": "stream",
     "text": [
      "nature.png\n"
     ]
    },
    {
     "data": {
      "image/png": "[encoded data removed]",
      "text/plain": [
       "<PIL.JpegImagePlugin.JpegImageFile image mode=RGB size=259x194 at 0x181B4933A00>"
      ]
     },
     "execution_count": 126,
     "metadata": {},
     "output_type": "execute_result"
    }
   ],
   "source": [
    "from PIL import Image\n",
    "n=input(\"Hey enter image location: \")\n",
    "def ima_show(n):\n",
    "    '''Function reads image and returns the output'''\n",
    "    try:\n",
    "        im=Image.open(n)\n",
    "        return im\n",
    "    except Exception as e:\n",
    "        return f\"Sorry {n} is not found in {os.getcwd()}\"\n",
    "    return\n",
    "ima_show(n)"
   ]
  },
  {
   "cell_type": "markdown",
   "metadata": {},
   "source": [
    "### Question 11"
   ]
  },
  {
   "cell_type": "code",
   "execution_count": null,
   "metadata": {
    "scrolled": true
   },
   "outputs": [],
   "source": [
    "import cv2\n",
    "n=input(\"Hey user enter the video location: \")\n",
    "def fun_vide_read(n):\n",
    "    '''This function will helps to read a video and show the output'''\n",
    "    \n",
    "    cap=cv2.VideoCapture(n)\n",
    "    while cap.isOpened():\n",
    "        ret,frame=cap.read()\n",
    "    \n",
    "        cv2.imshow(\"python-homework\",cv2.resize(frame,(800,600)))\n",
    "    \n",
    "        if cv2.waitKey(10) & 0xFF==ord('q'):\n",
    "            cap.release()\n",
    "            cv2.destroyAllWindows()\n",
    "            break\n",
    "    \n",
    "fun_vide_read(n)\n"
   ]
  },
  {
   "cell_type": "markdown",
   "metadata": {},
   "source": [
    "### Question 12"
   ]
  },
  {
   "cell_type": "code",
   "execution_count": 146,
   "metadata": {},
   "outputs": [],
   "source": [
    "import shutil\n",
    "des_path=r'C:\\Users\\sai ganesh\\Documents\\targets\\nature.png'\n",
    "existing=r'C:\\Users\\sai ganesh\\Documents\\INeuron\\nature.png'\n",
    "def move_file(src,dest):\n",
    "    '''This function moves the file from existing place to given destination'''\n",
    "    \n",
    "    shutil.move(src,dest)\n",
    "move_file(existing,des_path)\n"
   ]
  },
  {
   "cell_type": "markdown",
   "metadata": {},
   "source": [
    "### Question 13"
   ]
  },
  {
   "cell_type": "code",
   "execution_count": 147,
   "metadata": {},
   "outputs": [
    {
     "name": "stdout",
     "output_type": "stream",
     "text": [
      "Do you wish to shutdown your computer ? (yes / no): no\n"
     ]
    }
   ],
   "source": [
    "import os\n",
    "  \n",
    "shutdown = input(\"Do you wish to shutdown your computer ? (yes / no): \")\n",
    "  \n",
    "if shutdown == 'no':\n",
    "    exit()\n",
    "else:\n",
    "    os.system(\"shutdown /s /t 1\")"
   ]
  },
  {
   "cell_type": "code",
   "execution_count": null,
   "metadata": {},
   "outputs": [],
   "source": []
  },
  {
   "cell_type": "markdown",
   "metadata": {},
   "source": [
    "### Question 14"
   ]
  },
  {
   "cell_type": "code",
   "execution_count": null,
   "metadata": {
    "scrolled": true
   },
   "outputs": [],
   "source": [
    "import imaplib, email\n",
    " \n",
    "user = input(\"Enter your mail and hit enter: \")\n",
    "password = input(\"Enter password and hit enter: \")\n",
    "imap_url = 'imap.gmail.com'\n",
    " \n",
    "\n",
    "def get_body(msg):\n",
    "    if msg.is_multipart():\n",
    "        return get_body(msg.get_payload(0))\n",
    "    else:\n",
    "        return msg.get_payload(None, True)\n",
    " \n",
    "\n",
    "def search(key, value, con):\n",
    "    result, data = con.search(None, key, '\"{}\"'.format(value))\n",
    "    return data\n",
    " \n",
    "# Function to get the list of emails under this label\n",
    "def get_emails(result_bytes):\n",
    "    msgs = [] # all the email data are pushed inside an array\n",
    "    for num in result_bytes[0].split():\n",
    "        typ, data = con.fetch(num, '(RFC822)')\n",
    "        msgs.append(data)\n",
    " \n",
    "    return msgs\n",
    " \n",
    "\n",
    "con = imaplib.IMAP4_SSL(imap_url)\n",
    " \n",
    "# logging the user in\n",
    "con.login(user, password)\n",
    " \n",
    "\n",
    "con.select('Inbox')\n",
    " \n",
    " \n",
    "msgs = get_emails(search('FROM', 'MY_ANOTHER_GMAIL_ADDRESS', con))\n",
    " \n",
    "# Uncomment this to see what actually comes as data\n",
    "# print(msgs)\n",
    " \n",
    " \n",
    "\n",
    "for msg in msgs[::-1]:\n",
    "    for sent in msg:\n",
    "        if type(sent) is tuple:\n",
    " \n",
    "            # encoding set as utf-8\n",
    "            content = str(sent[1], 'utf-8')\n",
    "            data = str(content)\n",
    " \n",
    "            # Handling errors related to unicodenecode\n",
    "            try:\n",
    "                indexstart = data.find(\"ltr\")\n",
    "                data2 = data[indexstart + 5: len(data)]\n",
    "                indexend = data2.find(\"</div>\")\n",
    " \n",
    "                # printtng the required content which we need\n",
    "                # to extract from our email i.e our body\n",
    "                print(data2[0: indexend])\n",
    " \n",
    "            except UnicodeEncodeError as e:\n",
    "                pass"
   ]
  },
  {
   "cell_type": "code",
   "execution_count": null,
   "metadata": {},
   "outputs": [],
   "source": []
  },
  {
   "cell_type": "markdown",
   "metadata": {},
   "source": [
    "### Question 16"
   ]
  },
  {
   "cell_type": "code",
   "execution_count": 1,
   "metadata": {},
   "outputs": [],
   "source": [
    "import PyPDF2\n",
    "def fil(n):\n",
    "    '''This function returns the text in the pdf file '''\n",
    "    pdf_file = open(n, 'rb')\n",
    "    read_pdf = PyPDF2.PdfFileReader(pdf_file)\n",
    "    number_of_pages = read_pdf.getNumPages()\n",
    "    page = read_pdf.getPage(0)\n",
    "    page_content = page.extractText()\n",
    "\n",
    "    return (page_content)\n",
    "\n",
    "    pdf_file.close()"
   ]
  },
  {
   "cell_type": "code",
   "execution_count": null,
   "metadata": {},
   "outputs": [],
   "source": [
    "fil('CH2107054.pdf')"
   ]
  },
  {
   "cell_type": "markdown",
   "metadata": {},
   "source": [
    "### Question 17"
   ]
  },
  {
   "cell_type": "code",
   "execution_count": 3,
   "metadata": {},
   "outputs": [],
   "source": [
    "import textract\n",
    "def tes(file):\n",
    "    '''This function returns the text in the given word file '''\n",
    "    text=textract.process(file)\n",
    "    return (text)"
   ]
  },
  {
   "cell_type": "code",
   "execution_count": 7,
   "metadata": {},
   "outputs": [
    {
     "data": {
      "text/plain": [
       "b'Hi guys \\nThis file is created on 23 January 2022 \\n\\nThank you'"
      ]
     },
     "execution_count": 7,
     "metadata": {},
     "output_type": "execute_result"
    }
   ],
   "source": [
    "tes(\"C:\\\\Users\\\\sai ganesh\\\\Documents\\\\WORD docu\\\\trailing\\\\ineuron.docx\")"
   ]
  },
  {
   "cell_type": "markdown",
   "metadata": {},
   "source": [
    "### Question 18"
   ]
  },
  {
   "cell_type": "code",
   "execution_count": 41,
   "metadata": {},
   "outputs": [],
   "source": [
    "import shutil\n",
    "import os\n",
    "def fun_move(n,m):\n",
    "\n",
    "    for i in os.listdir():\n",
    "        try:\n",
    "            if i.endswith('.docx'):\n",
    "            \n",
    "                des_path=f'{n}\\\\{i}'\n",
    "            \n",
    "                existing=f'{m}\\\\{i}'\n",
    "                def move_file(src,dest):\n",
    "                    shutil.move(src,dest)\n",
    "                    print(\" \")\n",
    "                    print(\"We are done!\")\n",
    "                move_file(existing,des_path)\n",
    "                \n",
    "        except:\n",
    "            print(f'No docx files in the folder {m}')\n"
   ]
  },
  {
   "cell_type": "code",
   "execution_count": 42,
   "metadata": {
    "scrolled": true
   },
   "outputs": [
    {
     "name": "stdout",
     "output_type": "stream",
     "text": [
      "destination path:C:\\\\Users\\\\sai ganesh\\\\Documents\\\\WORD docu\\\\trailing\n",
      "existing pathC:\\\\Users\\\\sai ganesh\\\\Documents\\\\WORD docu\n",
      " \n",
      "We are done!\n"
     ]
    }
   ],
   "source": [
    "fun_move(input(\"destination path:\"),input(\"existing path\"))"
   ]
  },
  {
   "cell_type": "markdown",
   "metadata": {},
   "source": [
    "### Question 19"
   ]
  },
  {
   "cell_type": "code",
   "execution_count": 42,
   "metadata": {
    "scrolled": true
   },
   "outputs": [],
   "source": [
    "import socket \n",
    "def fun_ips():\n",
    "    '''This function returns the IP address of your PC '''\n",
    "    \n",
    "    n=input(\"Wanna see your IP if willing so type yes: \")\n",
    "    n=n.lower()\n",
    "    if n=='yes':\n",
    "        hostname = socket.gethostname()   \n",
    "        IPAddr = socket.gethostbyname(hostname)   \n",
    "        #return \"Your Computer Name is:\" + hostname \n",
    "        #return \"Your Computer IP Address is:\" + IPAddr  \n",
    "        return (f'Hi {hostname} your ip address is {IPAddr}')\n",
    "    else:\n",
    "        return(\"Ok bye\")"
   ]
  },
  {
   "cell_type": "code",
   "execution_count": null,
   "metadata": {},
   "outputs": [],
   "source": [
    "fun_ips()"
   ]
  },
  {
   "cell_type": "code",
   "execution_count": 17,
   "metadata": {},
   "outputs": [],
   "source": []
  },
  {
   "cell_type": "markdown",
   "metadata": {},
   "source": [
    "### Question 20"
   ]
  },
  {
   "cell_type": "code",
   "execution_count": 1,
   "metadata": {},
   "outputs": [],
   "source": [
    "from PyPDF2 import PdfFileMerger"
   ]
  },
  {
   "cell_type": "code",
   "execution_count": 2,
   "metadata": {},
   "outputs": [],
   "source": [
    "pdfs=['CH2107063.pdf','CH2107054.pdf']"
   ]
  },
  {
   "cell_type": "code",
   "execution_count": 56,
   "metadata": {},
   "outputs": [],
   "source": [
    "merger=PdfFileMerger()\n",
    "def app_pd():\n",
    "    '''This function merges the given pdf files in the list '''\n",
    "    \n",
    "    n=input(\"Wanna merge PDFs if willing so type yes: \")\n",
    "    n=n.lower()\n",
    "    if n=='yes':\n",
    "        for i in pdfs:\n",
    "            merger.append(i)\n",
    "        print(\"We are done have a look!\")\n",
    "    else:\n",
    "        return 'Ok we are quitting'\n",
    "merger.write(\"result.pdf\")\n",
    "merger.close()"
   ]
  },
  {
   "cell_type": "code",
   "execution_count": 57,
   "metadata": {},
   "outputs": [
    {
     "name": "stdout",
     "output_type": "stream",
     "text": [
      "Wanna merge PDFs if willing so type yes: no\n"
     ]
    },
    {
     "data": {
      "text/plain": [
       "'Ok we are quitting'"
      ]
     },
     "execution_count": 57,
     "metadata": {},
     "output_type": "execute_result"
    }
   ],
   "source": [
    "app_pd()"
   ]
  },
  {
   "cell_type": "code",
   "execution_count": null,
   "metadata": {},
   "outputs": [],
   "source": []
  }
 ],
 "metadata": {
  "kernelspec": {
   "display_name": "ineur",
   "language": "python",
   "name": "ineur"
  },
  "language_info": {
   "codemirror_mode": {
    "name": "ipython",
    "version": 3
   },
   "file_extension": ".py",
   "mimetype": "text/x-python",
   "name": "python",
   "nbconvert_exporter": "python",
   "pygments_lexer": "ipython3",
   "version": "3.9.7"
  }
 },
 "nbformat": 4,
 "nbformat_minor": 2
}
